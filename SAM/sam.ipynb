{
 "cells": [
  {
   "cell_type": "markdown",
   "metadata": {},
   "source": [
    "自動でセグメンテーション"
   ]
  },
  {
   "cell_type": "code",
   "execution_count": null,
   "metadata": {},
   "outputs": [],
   "source": [
    "from ultralytics.data.annotator import auto_annotate\n",
    "\n",
    "auto_annotate(data=\"./wp4833224.jpg\", det_model=\"yolov8x.pt\", sam_model='sam_b.pt', output_dir=\"./data\")"
   ]
  },
  {
   "cell_type": "markdown",
   "metadata": {},
   "source": [
    "セグメンテーション結果の確認"
   ]
  },
  {
   "cell_type": "code",
   "execution_count": null,
   "metadata": {},
   "outputs": [],
   "source": [
    "import cv2\n",
    "import matplotlib.pyplot as plt\n",
    "\n",
    "imgfile = \"./wp4833224.jpg\"\n",
    "txtfile = \"./data/wp4833224.txt\"\n",
    "\n",
    "img = cv2.imread(imgfile)\n",
    "import numpy as np\n",
    "cls = []\n",
    "poly = []\n",
    "w, h = img.shape[1], img.shape[0]\n",
    "with open(txtfile, \"r\") as f :\n",
    "  line = f.readline()\n",
    "  x = list(map(float, line.split()))\n",
    "  cls.append(int(x[0]))\n",
    "  y = np.array(x[1:]).reshape(-1,2)\n",
    "  y[:,0] = y[:,0] * w\n",
    "  y[:,1] = y[:,1] * h\n",
    "  poly.append(y)\n",
    "\n",
    "for i, e in enumerate(poly) :\n",
    "  pos = e.reshape((-1,1,2)).astype(np.int32)\n",
    "  cv2.polylines(img, [pos], isClosed=True, color= (255, 0, 32*i), thickness=2)\n",
    "  #マスク領域の塗りつぶし\n",
    "  cv2.fillPoly(img, [pos], color= (255, 0, 32*i))\n",
    "\n",
    "plt.figure(figsize=(5,5))\n",
    "plt.imshow(img)"
   ]
  },
  {
   "cell_type": "code",
   "execution_count": null,
   "metadata": {},
   "outputs": [],
   "source": [
    "import cv2\n",
    "import numpy as np\n",
    "import matplotlib.pyplot as plt\n",
    "\n",
    "imgfile = \"./wp4833224.jpg\"\n",
    "txtfile = \"./data/wp4833224.txt\"\n",
    "\n",
    "img = cv2.imread(imgfile)\n",
    "h, w = img.shape[:2]\n",
    "\n",
    "result_img = np.zeros((h, w, 4), dtype=np.uint8)\n",
    "\n",
    "poly = []\n",
    "with open(txtfile, \"r\") as f:\n",
    "    line = f.readline()\n",
    "    x = list(map(float, line.split()))\n",
    "    cls = int(x[0])\n",
    "    y = np.array(x[1:]).reshape(-1,2)\n",
    "    y[:,0] = y[:,0] * w\n",
    "    y[:,1] = y[:,1] * h\n",
    "    poly.append(y)\n",
    "\n",
    "for e in poly:\n",
    "    mask = np.zeros((h, w), dtype=np.uint8)\n",
    "    pos = e.reshape((-1,1,2)).astype(np.int32)\n",
    "    cv2.fillPoly(mask, [pos], color=255)\n",
    "    for c in range(3):\n",
    "        result_img[:,:,c][mask == 255] = img[:,:,c][mask == 255]\n",
    "    result_img[:,:,3][mask == 255] = 255\n",
    "\n",
    "plt.imshow(cv2.cvtColor(result_img, cv2.COLOR_BGRA2RGBA))\n",
    "plt.show()\n",
    "# unityのasset/resourcesに保存するようにパスを更新\n",
    "cv2.imwrite('output_image.png', result_img)\n"
   ]
  }
 ],
 "metadata": {
  "kernelspec": {
   "display_name": "ymc",
   "language": "python",
   "name": "python3"
  },
  "language_info": {
   "codemirror_mode": {
    "name": "ipython",
    "version": 3
   },
   "file_extension": ".py",
   "mimetype": "text/x-python",
   "name": "python",
   "nbconvert_exporter": "python",
   "pygments_lexer": "ipython3",
   "version": "3.11.7"
  }
 },
 "nbformat": 4,
 "nbformat_minor": 2
}
