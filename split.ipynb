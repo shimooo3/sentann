{
 "cells": [
  {
   "cell_type": "code",
   "execution_count": 3,
   "metadata": {},
   "outputs": [],
   "source": [
    "import os\n",
    "import shutil\n",
    "from glob import glob\n",
    "import numpy as np\n",
    "\n",
    "def split_data(source_folder, dest_folder, train_size=0.8, val_size=0.1, test_size=0.1):\n",
    "    # train, val, testディレクトリを作成\n",
    "    train_dir = os.path.join(dest_folder, 'train')\n",
    "    val_dir = os.path.join(dest_folder, 'valid')\n",
    "    test_dir = os.path.join(dest_folder, 'test')\n",
    "    \n",
    "    if not os.path.exists(train_dir):\n",
    "        os.makedirs(train_dir)\n",
    "    if not os.path.exists(val_dir):\n",
    "        os.makedirs(val_dir)\n",
    "    if not os.path.exists(test_dir):\n",
    "        os.makedirs(test_dir)\n",
    "    \n",
    "    # 各サブフォルダに対して処理\n",
    "    for folder_name in os.listdir(source_folder):\n",
    "        folder_path = os.path.join(source_folder, folder_name)\n",
    "        \n",
    "        # 各データセットのサブフォルダを作成\n",
    "        train_subdir = os.path.join(train_dir, folder_name)\n",
    "        val_subdir = os.path.join(val_dir, folder_name)\n",
    "        test_subdir = os.path.join(test_dir, folder_name)\n",
    "        os.makedirs(train_subdir, exist_ok=True)\n",
    "        os.makedirs(val_subdir, exist_ok=True)\n",
    "        os.makedirs(test_subdir, exist_ok=True)\n",
    "        \n",
    "        # 画像ファイルリストを取得\n",
    "        images = glob(os.path.join(folder_path, '*.jpg'))  # JPEG形式を想定\n",
    "        np.random.shuffle(images)\n",
    "        \n",
    "        # 分割ポイントを計算\n",
    "        train_split = int(len(images) * train_size)\n",
    "        val_split = train_split + int(len(images) * val_size)\n",
    "        \n",
    "        # データを対応するフォルダに移動\n",
    "        for i, img in enumerate(images):\n",
    "            if i < train_split:\n",
    "                shutil.copy(img, os.path.join(train_subdir, os.path.basename(img)))\n",
    "            elif i < val_split:\n",
    "                shutil.copy(img, os.path.join(val_subdir, os.path.basename(img)))\n",
    "            else:\n",
    "                shutil.copy(img, os.path.join(test_subdir, os.path.basename(img)))\n",
    "\n",
    "# パス設定\n",
    "source_folder = './images'\n",
    "dest_folder = './data'\n",
    "\n",
    "# データを分割\n",
    "split_data(source_folder, dest_folder)\n"
   ]
  }
 ],
 "metadata": {
  "kernelspec": {
   "display_name": "ymc",
   "language": "python",
   "name": "python3"
  },
  "language_info": {
   "codemirror_mode": {
    "name": "ipython",
    "version": 3
   },
   "file_extension": ".py",
   "mimetype": "text/x-python",
   "name": "python",
   "nbconvert_exporter": "python",
   "pygments_lexer": "ipython3",
   "version": "3.11.7"
  }
 },
 "nbformat": 4,
 "nbformat_minor": 2
}
